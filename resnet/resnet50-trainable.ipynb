{
 "cells": [
  {
   "cell_type": "markdown",
   "metadata": {},
   "source": [
    "# ResNet 50\n",
    "\n",
    "A TensorFlow reconstruction of ResNet50. Some useful links:\n",
    "\n",
    "* [KERAS implementation](https://github.com/fchollet/deep-learning-models/blob/master/resnet50.py)\n",
    "* [NetScope visualisation of the network](http://ethereon.github.io/netscope/#/gist/db945b393d40bfa26006)\n",
    "* [KERAS pre-trained weights (h5)](https://github.com/fchollet/deep-learning-models/releases/download/v0.2/resnet50_weights_tf_dim_ordering_tf_kernels.h5)"
   ]
  },
  {
   "cell_type": "code",
   "execution_count": 3,
   "metadata": {},
   "outputs": [
    {
     "name": "stdout",
     "output_type": "stream",
     "text": [
      "1.2.1\n"
     ]
    }
   ],
   "source": [
    "import os\n",
    "\n",
    "import numpy as np\n",
    "\n",
    "import h5py\n",
    "\n",
    "import tensorflow as tf\n",
    "print tf.__version__"
   ]
  },
  {
   "cell_type": "markdown",
   "metadata": {},
   "source": [
    "---\n",
    "### Data"
   ]
  },
  {
   "cell_type": "code",
   "execution_count": 4,
   "metadata": {
    "collapsed": true
   },
   "outputs": [],
   "source": [
    "PARAMS_PATH = ''\n",
    "PARAMS_FILE = PARAMS_PATH + 'resnet50_weights_tf_dim_ordering_tf_kernels.h5'\n",
    "\n",
    "# LOG_PATH = ''\n",
    "# LOG_DIRECTORY = LOG_PATH + 'Tensorflow/model-resnet50/logs'\n",
    "# if not os.path.exists(LOG_DIRECTORY):\n",
    "#     os.makedirs(LOG_DIRECTORY)"
   ]
  },
  {
   "cell_type": "code",
   "execution_count": 5,
   "metadata": {},
   "outputs": [
    {
     "name": "stdout",
     "output_type": "stream",
     "text": [
      "[u'bn2a_branch1', u'bn2a_branch2a', u'bn2a_branch2b', u'bn2a_branch2c', u'bn2b_branch2a', u'bn2b_branch2b', u'bn2b_branch2c', u'bn2c_branch2a', u'bn2c_branch2b', u'bn2c_branch2c', u'bn3a_branch1', u'bn3a_branch2a', u'bn3a_branch2b', u'bn3a_branch2c', u'bn3b_branch2a', u'bn3b_branch2b', u'bn3b_branch2c', u'bn3c_branch2a', u'bn3c_branch2b', u'bn3c_branch2c', u'bn3d_branch2a', u'bn3d_branch2b', u'bn3d_branch2c', u'bn4a_branch1', u'bn4a_branch2a', u'bn4a_branch2b', u'bn4a_branch2c', u'bn4b_branch2a', u'bn4b_branch2b', u'bn4b_branch2c', u'bn4c_branch2a', u'bn4c_branch2b', u'bn4c_branch2c', u'bn4d_branch2a', u'bn4d_branch2b', u'bn4d_branch2c', u'bn4e_branch2a', u'bn4e_branch2b', u'bn4e_branch2c', u'bn4f_branch2a', u'bn4f_branch2b', u'bn4f_branch2c', u'bn5a_branch1', u'bn5a_branch2a', u'bn5a_branch2b', u'bn5a_branch2c', u'bn5b_branch2a', u'bn5b_branch2b', u'bn5b_branch2c', u'bn5c_branch2a', u'bn5c_branch2b', u'bn5c_branch2c', u'bn_conv1', u'conv1', u'fc1000', u'res2a_branch1', u'res2a_branch2a', u'res2a_branch2b', u'res2a_branch2c', u'res2b_branch2a', u'res2b_branch2b', u'res2b_branch2c', u'res2c_branch2a', u'res2c_branch2b', u'res2c_branch2c', u'res3a_branch1', u'res3a_branch2a', u'res3a_branch2b', u'res3a_branch2c', u'res3b_branch2a', u'res3b_branch2b', u'res3b_branch2c', u'res3c_branch2a', u'res3c_branch2b', u'res3c_branch2c', u'res3d_branch2a', u'res3d_branch2b', u'res3d_branch2c', u'res4a_branch1', u'res4a_branch2a', u'res4a_branch2b', u'res4a_branch2c', u'res4b_branch2a', u'res4b_branch2b', u'res4b_branch2c', u'res4c_branch2a', u'res4c_branch2b', u'res4c_branch2c', u'res4d_branch2a', u'res4d_branch2b', u'res4d_branch2c', u'res4e_branch2a', u'res4e_branch2b', u'res4e_branch2c', u'res4f_branch2a', u'res4f_branch2b', u'res4f_branch2c', u'res5a_branch1', u'res5a_branch2a', u'res5a_branch2b', u'res5a_branch2c', u'res5b_branch2a', u'res5b_branch2b', u'res5b_branch2c', u'res5c_branch2a', u'res5c_branch2b', u'res5c_branch2c']\n"
     ]
    }
   ],
   "source": [
    "data_h5 = h5py.File(PARAMS_FILE, 'r')\n",
    "\n",
    "variables = [ key for key in data_h5.keys() if len(data_h5[key])>0 ]\n",
    "print variables"
   ]
  },
  {
   "cell_type": "code",
   "execution_count": 6,
   "metadata": {},
   "outputs": [
    {
     "name": "stdout",
     "output_type": "stream",
     "text": [
      "[u'bn2a_branch1_beta:0', u'bn2a_branch1_gamma:0', u'bn2a_branch1_running_mean:0', u'bn2a_branch1_running_std:0']\n"
     ]
    }
   ],
   "source": [
    "print list(data_h5['bn2a_branch1'])"
   ]
  },
  {
   "cell_type": "code",
   "execution_count": 7,
   "metadata": {},
   "outputs": [
    {
     "name": "stdout",
     "output_type": "stream",
     "text": [
      "(256,)\n",
      "[ 0.30266267  1.10643625  1.773862    0.81150401  1.0933665 ]\n"
     ]
    }
   ],
   "source": [
    "print data_h5['bn2a_branch1']['bn2a_branch1_beta:0'].shape\n",
    "print data_h5['bn2a_branch1']['bn2a_branch1_gamma:0'].value[:5]"
   ]
  },
  {
   "cell_type": "markdown",
   "metadata": {},
   "source": [
    "#### Model Components"
   ]
  },
  {
   "cell_type": "code",
   "execution_count": 12,
   "metadata": {
    "collapsed": true
   },
   "outputs": [],
   "source": [
    "# ----------------------- #\n",
    "def dense_layer(input_layer, data, layer_name):\n",
    "    with tf.variable_scope(layer_name):\n",
    "        W = tf.constant( data[layer_name][layer_name+'_W:0'] )\n",
    "        b = data[layer_name][layer_name+'_b:0']\n",
    "        b = tf.constant( np.reshape(b, (b.shape[0])) )\n",
    "        X = tf.matmul(input_layer, W)\n",
    "        X = tf.nn.bias_add(X, b)\n",
    "        return X\n",
    "    # ----------------------- #\n",
    "\n",
    "\n",
    "# ----------------------- #\n",
    "def conv_layer(input_layer, data, layer_name, strides=[1,1,1,1], padding='VALID', lock=True):\n",
    "    with tf.variable_scope(layer_name):\n",
    "        W_val = np.array(data[layer_name][layer_name+'_W:0']).astype(np.float32)\n",
    "        b_val = np.array(data[layer_name][layer_name+'_b:0']).astype(np.float32)\n",
    "        if lock:\n",
    "            W = tf.constant( W_val )\n",
    "            b = tf.constant( np.reshape(b_val, (b_val.shape[0])) )\n",
    "        else:\n",
    "            # As variables.\n",
    "            W = tf.get_variable(layer_name+'_W', shape=W_val.shape, \n",
    "                                initializer=tf.constant_initializer(W_val), dtype=tf.float32)\n",
    "            b = tf.get_variable(layer_name+'_b', shape=b_val.shape, \n",
    "                                initializer=tf.constant_initializer(b_val), dtype=tf.float32)\n",
    "        X = tf.nn.conv2d(input_layer, filter=W, strides=strides, padding=padding, name=layer_name)\n",
    "        X = tf.nn.bias_add(X, b)\n",
    "        return X\n",
    "    # ----------------------- #\n",
    "\n",
    "\n",
    "# ----------------------- #\n",
    "def batch_norm_layer(input_layer, data, layer_name, lock=True):\n",
    "    with tf.variable_scope(layer_name):\n",
    "        mean_val = np.array(data[layer_name][layer_name+'_running_mean:0']).astype(np.float32)\n",
    "        std_val = np.array(data[layer_name][layer_name+'_running_std:0']).astype(np.float32)\n",
    "        beta_val = np.array(data[layer_name][layer_name+'_beta:0']).astype(np.float32)\n",
    "        gamma_val = np.array(data[layer_name][layer_name+'_gamma:0']).astype(np.float32)\n",
    "        if lock:\n",
    "            mean = tf.constant(mean_val)\n",
    "            std = tf.constant(std_val)\n",
    "            beta = tf.constant(beta_val)\n",
    "            gamma = tf.constant(gamma_val)\n",
    "        else:\n",
    "            # As variables.\n",
    "            mean = tf.get_variable(layer_name+'_running_mean', shape=mean_val.shape, initializer=tf.constant_initializer(mean_val), dtype=tf.float32)\n",
    "            std = tf.get_variable(layer_name+'_running_std', shape=std_val.shape, initializer=tf.constant_initializer(std_val), dtype=tf.float32)\n",
    "            beta = tf.get_variable(layer_name+'_beta', shape=beta_val.shape, initializer=tf.constant_initializer(beta_val), dtype=tf.float32)\n",
    "            gamma = tf.get_variable(layer_name+'_gamma', shape=gamma_val.shape, initializer=tf.constant_initializer(gamma_val), dtype=tf.float32)\n",
    "        X = tf.nn.batch_normalization( input_layer, mean=mean, variance=std, \n",
    "                                       offset=beta, scale=gamma, variance_epsilon=1e-12, name='batch-norm')\n",
    "        return X\n",
    "    # ----------------------- #\n",
    "\n",
    "\n",
    "# ----------------------- #\n",
    "def conv_block(input_layer, stage, data, strides=[1, 2, 2, 1], lock=True):\n",
    "    \n",
    "    with tf.variable_scope('conv_block'):\n",
    "        \n",
    "        x = conv_layer(input_layer, data=data, layer_name='res'+stage+'_branch2a', strides=strides, lock=lock)\n",
    "        x = batch_norm_layer(x, data=data, layer_name='bn'+stage+'_branch2a', lock=lock)\n",
    "        x = tf.nn.relu(x)\n",
    "        \n",
    "        x = conv_layer(x, data=data, layer_name='res'+stage+'_branch2b', padding='SAME', lock=lock)\n",
    "        x = batch_norm_layer(x, data=data, layer_name='bn'+stage+'_branch2b', lock=lock)\n",
    "        x = tf.nn.relu(x)\n",
    "        \n",
    "        x = conv_layer(x, data=data, layer_name='res'+stage+'_branch2c', lock=lock)\n",
    "        x = batch_norm_layer(x, data=data, layer_name='bn'+stage+'_branch2c', lock=lock)\n",
    "        \n",
    "        shortcut = conv_layer(input_layer, data=data, layer_name='res'+stage+'_branch1', strides=strides, lock=lock)\n",
    "        shortcut = batch_norm_layer(shortcut, data=data, layer_name='bn'+stage+'_branch1', lock=lock)\n",
    "        \n",
    "        x = tf.add(x, shortcut)\n",
    "        x = tf.nn.relu(x)\n",
    "        \n",
    "    return x\n",
    "    # ----------------------- #\n",
    "\n",
    "\n",
    "# ----------------------- #\n",
    "def identity_block(input_layer, stage, data, lock=True):\n",
    "    \n",
    "    with tf.variable_scope('identity_block'):\n",
    "        \n",
    "        x = conv_layer(input_layer, data=data, layer_name='res'+stage+'_branch2a', lock=lock)\n",
    "        x = batch_norm_layer(x, data=data, layer_name='bn'+stage+'_branch2a', lock=lock)\n",
    "        x = tf.nn.relu(x)\n",
    "        \n",
    "        x = conv_layer(x, data=data, layer_name='res'+stage+'_branch2b', padding='SAME', lock=lock)\n",
    "        x = batch_norm_layer(x, data=data, layer_name='bn'+stage+'_branch2b', lock=lock)\n",
    "        x = tf.nn.relu(x)\n",
    "        \n",
    "        x = conv_layer(x, data=data, layer_name='res'+stage+'_branch2c', lock=lock)\n",
    "        x = batch_norm_layer(x, data=data, layer_name='bn'+stage+'_branch2c', lock=lock)\n",
    "        \n",
    "        x = tf.add(x, input_layer)\n",
    "        x = tf.nn.relu(x)\n",
    "        \n",
    "    return x\n",
    "    # ----------------------- #"
   ]
  },
  {
   "cell_type": "code",
   "execution_count": 13,
   "metadata": {},
   "outputs": [
    {
     "name": "stdout",
     "output_type": "stream",
     "text": [
      "Stage 1 (?, 55, 55, 64)\n",
      "Stage 2 (?, 55, 55, 256)\n",
      "Stage 3 (?, 28, 28, 512)\n",
      "Stage 4 (?, 14, 14, 1024)\n",
      "Stage 5 (?, 7, 7, 2048)\n",
      "Pool 5 (?, 1, 1, 2048)\n",
      "Output probabilities (?, 1000)\n"
     ]
    }
   ],
   "source": [
    "tf.reset_default_graph()\n",
    "\n",
    "RESNET_HEIGHT = 224\n",
    "RESNET_WIDTH = 224\n",
    "\n",
    "image_input = tf.placeholder(dtype=tf.float32, shape=[None, RESNET_HEIGHT, RESNET_WIDTH, 3], name='input')\n",
    "image = tf.pad(image_input, [[0,0],[3,3],[3,3],[0,0]], \"CONSTANT\", name='zeropadding-3')\n",
    "\n",
    "\n",
    "with tf.variable_scope('stage1'):\n",
    "    res = conv_layer(image, data_h5, 'conv1', strides=[1, 2, 2, 1])\n",
    "    res = batch_norm_layer(res, data_h5, 'bn_conv1')\n",
    "    res = tf.nn.relu(res)\n",
    "    res = tf.nn.max_pool(res, ksize=[1, 3, 3, 1], strides=[1, 2, 2, 1], padding='VALID', name='pool_conv1')\n",
    "    print 'Stage 1', res.get_shape()\n",
    "\n",
    "\n",
    "with tf.variable_scope('stage2'):\n",
    "    res = conv_block(input_layer=res, stage='2a', data=data_h5, strides=[1, 1, 1, 1])\n",
    "    res = identity_block(input_layer=res, stage='2b', data=data_h5)\n",
    "    res = identity_block(input_layer=res, stage='2c', data=data_h5)\n",
    "    print 'Stage 2', res.get_shape()\n",
    "\n",
    "\n",
    "with tf.variable_scope('stage3'):\n",
    "    res = conv_block(input_layer=res, stage='3a', data=data_h5)\n",
    "    res = identity_block(input_layer=res, stage='3b', data=data_h5)\n",
    "    res = identity_block(input_layer=res, stage='3c', data=data_h5)\n",
    "    res = identity_block(input_layer=res, stage='3d', data=data_h5)\n",
    "    print 'Stage 3', res.get_shape()\n",
    "\n",
    "\n",
    "with tf.variable_scope('stage4'):\n",
    "    res = conv_block(input_layer=res, stage='4a', data=data_h5)\n",
    "    res = identity_block(input_layer=res, stage='4b', data=data_h5)\n",
    "    res = identity_block(input_layer=res, stage='4c', data=data_h5)\n",
    "    res = identity_block(input_layer=res, stage='4d', data=data_h5)\n",
    "    res = identity_block(input_layer=res, stage='4e', data=data_h5)\n",
    "    res = identity_block(input_layer=res, stage='4f', data=data_h5)\n",
    "    print 'Stage 4', res.get_shape()\n",
    "\n",
    "\n",
    "with tf.variable_scope('stage5'):\n",
    "    res = conv_block(input_layer=res, stage='5a', data=data_h5, lock=False)\n",
    "    res = identity_block(input_layer=res, stage='5b', data=data_h5, lock=False)\n",
    "    res = identity_block(input_layer=res, stage='5c', data=data_h5, lock=False)\n",
    "    print 'Stage 5', res.get_shape()\n",
    "\n",
    "\n",
    "with tf.variable_scope('stage-final'):\n",
    "    res = tf.nn.avg_pool(res, ksize=[1, 7, 7, 1], strides=[1, 1, 1, 1], padding='VALID', name='pool_conv1')\n",
    "    print 'Pool 5', res.get_shape()\n",
    "    \n",
    "    # Add the dense layer.\n",
    "    res = tf.reshape(res, (-1, res.get_shape()[3].value))\n",
    "    res = dense_layer(input_layer=res, layer_name='fc1000', data=data_h5)\n",
    "    res = tf.nn.softmax(res)\n",
    "    print 'Output probabilities', res.get_shape()"
   ]
  },
  {
   "cell_type": "code",
   "execution_count": 14,
   "metadata": {},
   "outputs": [
    {
     "name": "stdout",
     "output_type": "stream",
     "text": [
      "<tf.Variable 'stage5/conv_block/res5a_branch2a/res5a_branch2a_W:0' shape=(1, 1, 1024, 512) dtype=float32_ref>\n",
      "<tf.Variable 'stage5/conv_block/res5a_branch2a/res5a_branch2a_b:0' shape=(512,) dtype=float32_ref>\n",
      "<tf.Variable 'stage5/conv_block/bn5a_branch2a/bn5a_branch2a_running_mean:0' shape=(512,) dtype=float32_ref>\n",
      "<tf.Variable 'stage5/conv_block/bn5a_branch2a/bn5a_branch2a_running_std:0' shape=(512,) dtype=float32_ref>\n",
      "<tf.Variable 'stage5/conv_block/bn5a_branch2a/bn5a_branch2a_beta:0' shape=(512,) dtype=float32_ref>\n",
      "<tf.Variable 'stage5/conv_block/bn5a_branch2a/bn5a_branch2a_gamma:0' shape=(512,) dtype=float32_ref>\n",
      "<tf.Variable 'stage5/conv_block/res5a_branch2b/res5a_branch2b_W:0' shape=(3, 3, 512, 512) dtype=float32_ref>\n",
      "<tf.Variable 'stage5/conv_block/res5a_branch2b/res5a_branch2b_b:0' shape=(512,) dtype=float32_ref>\n",
      "<tf.Variable 'stage5/conv_block/bn5a_branch2b/bn5a_branch2b_running_mean:0' shape=(512,) dtype=float32_ref>\n",
      "<tf.Variable 'stage5/conv_block/bn5a_branch2b/bn5a_branch2b_running_std:0' shape=(512,) dtype=float32_ref>\n",
      "<tf.Variable 'stage5/conv_block/bn5a_branch2b/bn5a_branch2b_beta:0' shape=(512,) dtype=float32_ref>\n",
      "<tf.Variable 'stage5/conv_block/bn5a_branch2b/bn5a_branch2b_gamma:0' shape=(512,) dtype=float32_ref>\n",
      "<tf.Variable 'stage5/conv_block/res5a_branch2c/res5a_branch2c_W:0' shape=(1, 1, 512, 2048) dtype=float32_ref>\n",
      "<tf.Variable 'stage5/conv_block/res5a_branch2c/res5a_branch2c_b:0' shape=(2048,) dtype=float32_ref>\n",
      "<tf.Variable 'stage5/conv_block/bn5a_branch2c/bn5a_branch2c_running_mean:0' shape=(2048,) dtype=float32_ref>\n",
      "<tf.Variable 'stage5/conv_block/bn5a_branch2c/bn5a_branch2c_running_std:0' shape=(2048,) dtype=float32_ref>\n",
      "<tf.Variable 'stage5/conv_block/bn5a_branch2c/bn5a_branch2c_beta:0' shape=(2048,) dtype=float32_ref>\n",
      "<tf.Variable 'stage5/conv_block/bn5a_branch2c/bn5a_branch2c_gamma:0' shape=(2048,) dtype=float32_ref>\n",
      "<tf.Variable 'stage5/conv_block/res5a_branch1/res5a_branch1_W:0' shape=(1, 1, 1024, 2048) dtype=float32_ref>\n",
      "<tf.Variable 'stage5/conv_block/res5a_branch1/res5a_branch1_b:0' shape=(2048,) dtype=float32_ref>\n",
      "<tf.Variable 'stage5/conv_block/bn5a_branch1/bn5a_branch1_running_mean:0' shape=(2048,) dtype=float32_ref>\n",
      "<tf.Variable 'stage5/conv_block/bn5a_branch1/bn5a_branch1_running_std:0' shape=(2048,) dtype=float32_ref>\n",
      "<tf.Variable 'stage5/conv_block/bn5a_branch1/bn5a_branch1_beta:0' shape=(2048,) dtype=float32_ref>\n",
      "<tf.Variable 'stage5/conv_block/bn5a_branch1/bn5a_branch1_gamma:0' shape=(2048,) dtype=float32_ref>\n",
      "<tf.Variable 'stage5/identity_block/res5b_branch2a/res5b_branch2a_W:0' shape=(1, 1, 2048, 512) dtype=float32_ref>\n",
      "<tf.Variable 'stage5/identity_block/res5b_branch2a/res5b_branch2a_b:0' shape=(512,) dtype=float32_ref>\n",
      "<tf.Variable 'stage5/identity_block/bn5b_branch2a/bn5b_branch2a_running_mean:0' shape=(512,) dtype=float32_ref>\n",
      "<tf.Variable 'stage5/identity_block/bn5b_branch2a/bn5b_branch2a_running_std:0' shape=(512,) dtype=float32_ref>\n",
      "<tf.Variable 'stage5/identity_block/bn5b_branch2a/bn5b_branch2a_beta:0' shape=(512,) dtype=float32_ref>\n",
      "<tf.Variable 'stage5/identity_block/bn5b_branch2a/bn5b_branch2a_gamma:0' shape=(512,) dtype=float32_ref>\n",
      "<tf.Variable 'stage5/identity_block/res5b_branch2b/res5b_branch2b_W:0' shape=(3, 3, 512, 512) dtype=float32_ref>\n",
      "<tf.Variable 'stage5/identity_block/res5b_branch2b/res5b_branch2b_b:0' shape=(512,) dtype=float32_ref>\n",
      "<tf.Variable 'stage5/identity_block/bn5b_branch2b/bn5b_branch2b_running_mean:0' shape=(512,) dtype=float32_ref>\n",
      "<tf.Variable 'stage5/identity_block/bn5b_branch2b/bn5b_branch2b_running_std:0' shape=(512,) dtype=float32_ref>\n",
      "<tf.Variable 'stage5/identity_block/bn5b_branch2b/bn5b_branch2b_beta:0' shape=(512,) dtype=float32_ref>\n",
      "<tf.Variable 'stage5/identity_block/bn5b_branch2b/bn5b_branch2b_gamma:0' shape=(512,) dtype=float32_ref>\n",
      "<tf.Variable 'stage5/identity_block/res5b_branch2c/res5b_branch2c_W:0' shape=(1, 1, 512, 2048) dtype=float32_ref>\n",
      "<tf.Variable 'stage5/identity_block/res5b_branch2c/res5b_branch2c_b:0' shape=(2048,) dtype=float32_ref>\n",
      "<tf.Variable 'stage5/identity_block/bn5b_branch2c/bn5b_branch2c_running_mean:0' shape=(2048,) dtype=float32_ref>\n",
      "<tf.Variable 'stage5/identity_block/bn5b_branch2c/bn5b_branch2c_running_std:0' shape=(2048,) dtype=float32_ref>\n",
      "<tf.Variable 'stage5/identity_block/bn5b_branch2c/bn5b_branch2c_beta:0' shape=(2048,) dtype=float32_ref>\n",
      "<tf.Variable 'stage5/identity_block/bn5b_branch2c/bn5b_branch2c_gamma:0' shape=(2048,) dtype=float32_ref>\n",
      "<tf.Variable 'stage5/identity_block/res5c_branch2a/res5c_branch2a_W:0' shape=(1, 1, 2048, 512) dtype=float32_ref>\n",
      "<tf.Variable 'stage5/identity_block/res5c_branch2a/res5c_branch2a_b:0' shape=(512,) dtype=float32_ref>\n",
      "<tf.Variable 'stage5/identity_block/bn5c_branch2a/bn5c_branch2a_running_mean:0' shape=(512,) dtype=float32_ref>\n",
      "<tf.Variable 'stage5/identity_block/bn5c_branch2a/bn5c_branch2a_running_std:0' shape=(512,) dtype=float32_ref>\n",
      "<tf.Variable 'stage5/identity_block/bn5c_branch2a/bn5c_branch2a_beta:0' shape=(512,) dtype=float32_ref>\n",
      "<tf.Variable 'stage5/identity_block/bn5c_branch2a/bn5c_branch2a_gamma:0' shape=(512,) dtype=float32_ref>\n",
      "<tf.Variable 'stage5/identity_block/res5c_branch2b/res5c_branch2b_W:0' shape=(3, 3, 512, 512) dtype=float32_ref>\n",
      "<tf.Variable 'stage5/identity_block/res5c_branch2b/res5c_branch2b_b:0' shape=(512,) dtype=float32_ref>\n",
      "<tf.Variable 'stage5/identity_block/bn5c_branch2b/bn5c_branch2b_running_mean:0' shape=(512,) dtype=float32_ref>\n",
      "<tf.Variable 'stage5/identity_block/bn5c_branch2b/bn5c_branch2b_running_std:0' shape=(512,) dtype=float32_ref>\n",
      "<tf.Variable 'stage5/identity_block/bn5c_branch2b/bn5c_branch2b_beta:0' shape=(512,) dtype=float32_ref>\n",
      "<tf.Variable 'stage5/identity_block/bn5c_branch2b/bn5c_branch2b_gamma:0' shape=(512,) dtype=float32_ref>\n",
      "<tf.Variable 'stage5/identity_block/res5c_branch2c/res5c_branch2c_W:0' shape=(1, 1, 512, 2048) dtype=float32_ref>\n",
      "<tf.Variable 'stage5/identity_block/res5c_branch2c/res5c_branch2c_b:0' shape=(2048,) dtype=float32_ref>\n",
      "<tf.Variable 'stage5/identity_block/bn5c_branch2c/bn5c_branch2c_running_mean:0' shape=(2048,) dtype=float32_ref>\n",
      "<tf.Variable 'stage5/identity_block/bn5c_branch2c/bn5c_branch2c_running_std:0' shape=(2048,) dtype=float32_ref>\n",
      "<tf.Variable 'stage5/identity_block/bn5c_branch2c/bn5c_branch2c_beta:0' shape=(2048,) dtype=float32_ref>\n",
      "<tf.Variable 'stage5/identity_block/bn5c_branch2c/bn5c_branch2c_gamma:0' shape=(2048,) dtype=float32_ref>\n"
     ]
    }
   ],
   "source": [
    "for var in tf.get_collection(tf.GraphKeys.GLOBAL_VARIABLES):\n",
    "    print var"
   ]
  }
 ],
 "metadata": {
  "kernelspec": {
   "display_name": "Python 2",
   "language": "python",
   "name": "python2"
  },
  "language_info": {
   "codemirror_mode": {
    "name": "ipython",
    "version": 2
   },
   "file_extension": ".py",
   "mimetype": "text/x-python",
   "name": "python",
   "nbconvert_exporter": "python",
   "pygments_lexer": "ipython2",
   "version": "2.7.10"
  }
 },
 "nbformat": 4,
 "nbformat_minor": 2
}
